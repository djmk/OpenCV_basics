{
 "cells": [
  {
   "cell_type": "markdown",
   "metadata": {},
   "source": [
    "## Getting Started with OpenCV\n",
    "\n",
    "<b>First step</b> : Install Anaconda Latest Version\n",
    "\n",
    "<b>Second Step</b> : Install OpenCV using pip - (`pip install opencv-python`). This command will install the latest version of opencv on your computer"
   ]
  },
  {
   "cell_type": "code",
   "execution_count": 1,
   "metadata": {},
   "outputs": [],
   "source": [
    "#importing opencv library\n",
    "import cv2"
   ]
  },
  {
   "cell_type": "code",
   "execution_count": 2,
   "metadata": {},
   "outputs": [],
   "source": [
    "#loading and reading a image file\n",
    "image = cv2.imread('image_folder/scenery.jpg') #path of the image"
   ]
  },
  {
   "cell_type": "code",
   "execution_count": 3,
   "metadata": {},
   "outputs": [
    {
     "name": "stdout",
     "output_type": "stream",
     "text": [
      "(1001, 1500, 3)\n",
      "width: 1500\n",
      "height: 1001\n",
      "channels: 3\n"
     ]
    }
   ],
   "source": [
    "#shapes of the images in pixels\n",
    "print(image.shape)\n",
    "print(\"width: {}\".format(image.shape[1]))\n",
    "print(\"height: {}\".format(image.shape[0]))\n",
    "print(\"channels: {}\".format(image.shape[2]))"
   ]
  },
  {
   "cell_type": "code",
   "execution_count": 4,
   "metadata": {},
   "outputs": [
    {
     "data": {
      "text/plain": [
       "13"
      ]
     },
     "execution_count": 4,
     "metadata": {},
     "output_type": "execute_result"
    }
   ],
   "source": [
    "#display image\n",
    "cv2.imshow(\"Image\", image)\n",
    "#for pausing the execution of the script until we press a key on our keyboard\n",
    "cv2.waitKey(0)"
   ]
  },
  {
   "cell_type": "code",
   "execution_count": 5,
   "metadata": {},
   "outputs": [
    {
     "data": {
      "text/plain": [
       "True"
      ]
     },
     "execution_count": 5,
     "metadata": {},
     "output_type": "execute_result"
    }
   ],
   "source": [
    "#writing the image in .png format\n",
    "cv2.imwrite(\"pngimage.png\", image)"
   ]
  },
  {
   "cell_type": "code",
   "execution_count": null,
   "metadata": {},
   "outputs": [],
   "source": []
  }
 ],
 "metadata": {
  "kernelspec": {
   "display_name": "Python 3",
   "language": "python",
   "name": "python3"
  },
  "language_info": {
   "codemirror_mode": {
    "name": "ipython",
    "version": 3
   },
   "file_extension": ".py",
   "mimetype": "text/x-python",
   "name": "python",
   "nbconvert_exporter": "python",
   "pygments_lexer": "ipython3",
   "version": "3.5.4"
  }
 },
 "nbformat": 4,
 "nbformat_minor": 2
}
